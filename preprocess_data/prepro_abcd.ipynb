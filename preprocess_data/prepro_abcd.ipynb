{
 "cells": [
  {
   "cell_type": "code",
   "execution_count": 1,
   "metadata": {},
   "outputs": [],
   "source": [
    "import sys\n",
    "sys.path.append('../src')\n",
    "\n",
    "import decouple\n",
    "import json\n",
    "import os\n",
    "import tqdm\n",
    "\n",
    "import utils\n",
    "\n",
    "NFS_DIR = decouple.config('NFS_PARENT_DIR')"
   ]
  },
  {
   "cell_type": "code",
   "execution_count": 2,
   "metadata": {},
   "outputs": [],
   "source": [
    "data_config = utils.read_yaml('../config/data/abcd.yaml')\n",
    "\n",
    "with open(f'{NFS_DIR}/data/abcd/raw_data/abcd_v1.1.json', 'r') as f:\n",
    "    raw_data = json.load(f)"
   ]
  },
  {
   "cell_type": "code",
   "execution_count": 3,
   "metadata": {},
   "outputs": [],
   "source": [
    "flows = set()\n",
    "subflows = set()\n",
    "examples = raw_data['train']\n",
    "\n",
    "for ex in examples:\n",
    "    scenario = ex['scenario']\n",
    "    flows.add(scenario['flow'])\n",
    "    subflows.add(scenario['subflow'])\n",
    "\n",
    "flow_to_idx = {flow: idx for idx, flow in enumerate(flows)}\n",
    "subflow_to_idx = {subflow: idx for idx, subflow in enumerate(subflows)}"
   ]
  },
  {
   "cell_type": "code",
   "execution_count": 4,
   "metadata": {},
   "outputs": [
    {
     "name": "stderr",
     "output_type": "stream",
     "text": [
      "8034it [00:00, 41384.80it/s]\n"
     ]
    },
    {
     "name": "stdout",
     "output_type": "stream",
     "text": [
      "/gscratch/tial/roylu/projects/theta/data/abcd/data/train.json\n"
     ]
    },
    {
     "name": "stderr",
     "output_type": "stream",
     "text": [
      "1004it [00:00, 47484.65it/s]\n"
     ]
    },
    {
     "name": "stdout",
     "output_type": "stream",
     "text": [
      "/gscratch/tial/roylu/projects/theta/data/abcd/data/dev.json\n"
     ]
    },
    {
     "name": "stderr",
     "output_type": "stream",
     "text": [
      "1004it [00:00, 47295.86it/s]"
     ]
    },
    {
     "name": "stdout",
     "output_type": "stream",
     "text": [
      "/gscratch/tial/roylu/projects/theta/data/abcd/data/test.json\n"
     ]
    },
    {
     "name": "stderr",
     "output_type": "stream",
     "text": [
      "\n"
     ]
    }
   ],
   "source": [
    "for split in data_config['config']['splits']:\n",
    "    examples = raw_data[split]\n",
    "    for dialog_idx, ex in tqdm.tqdm(enumerate(examples)):\n",
    "        ex.pop('delexed')\n",
    "        scenario = ex.pop('scenario')\n",
    "        flow = scenario['flow']\n",
    "        subflow = scenario['subflow']\n",
    "        ex['example_id'] = ex.pop('convo_id')\n",
    "        ex['flow'] = flow\n",
    "        ex['subflow'] = subflow\n",
    "        ex['flow_idx'] = flow_to_idx[flow]\n",
    "        ex['subflow_idx'] = subflow_to_idx[subflow]\n",
    "        ex['dialog_idx'] = dialog_idx\n",
    "        dialog = []\n",
    "        for turn_idx, turn in enumerate(ex.pop('original')):\n",
    "            turn = {\n",
    "                'party': turn[0],\n",
    "                'turn': turn[1],\n",
    "                'turn_idx': turn_idx,\n",
    "            }\n",
    "            dialog.append(turn)\n",
    "        ex['dialogue'] = dialog\n",
    "\n",
    "    path = data_config['path']['input_pattern_map'][split].format(nfs_dir=NFS_DIR)\n",
    "    print(path)\n",
    "    with open(path, 'w') as f:\n",
    "        for example in examples:\n",
    "            print(json.dumps(example), file=f)"
   ]
  },
  {
   "cell_type": "code",
   "execution_count": null,
   "metadata": {},
   "outputs": [],
   "source": []
  }
 ],
 "metadata": {
  "kernelspec": {
   "display_name": "theta",
   "language": "python",
   "name": "python3"
  },
  "language_info": {
   "codemirror_mode": {
    "name": "ipython",
    "version": 3
   },
   "file_extension": ".py",
   "mimetype": "text/x-python",
   "name": "python",
   "nbconvert_exporter": "python",
   "pygments_lexer": "ipython3",
   "version": "3.8.12"
  },
  "orig_nbformat": 4,
  "vscode": {
   "interpreter": {
    "hash": "1d894f953985df1b1fa232bf092ab4758eff604d12535f541d8fc07db67b454f"
   }
  }
 },
 "nbformat": 4,
 "nbformat_minor": 2
}
