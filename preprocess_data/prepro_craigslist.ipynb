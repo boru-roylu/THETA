{
 "cells": [
  {
   "cell_type": "code",
   "execution_count": 1,
   "metadata": {},
   "outputs": [],
   "source": [
    "import sys\n",
    "sys.path.append('../src')\n",
    "\n",
    "import decouple\n",
    "import json\n",
    "import numpy as np\n",
    "import os\n",
    "import pickle\n",
    "import utils\n",
    "\n",
    "NFS_DIR = decouple.config('NFS_PARENT_DIR')"
   ]
  },
  {
   "cell_type": "code",
   "execution_count": 5,
   "metadata": {},
   "outputs": [],
   "source": [
    "data_config = utils.read_yaml('../config/data/craigslist.yaml')\n",
    "\n",
    "# strategy_vector_data_full.pkl is the file data_w_strategies_outcomes.pkl from\n",
    "# the preprocessing jupyter notebook `PreProcessNegotiationData.ipynb`.\n",
    "path = f'{NFS_DIR}/data/craigslist/raw_data/strategy_vector_data_full.pkl'\n",
    "\n",
    "with open(path, 'rb') as f:\n",
    "    data = pickle.load(f)"
   ]
  },
  {
   "cell_type": "code",
   "execution_count": 6,
   "metadata": {},
   "outputs": [],
   "source": [
    "# Two functions to convert vector with strategy/dialog act ids \n",
    "# into corresponding strings to make sure we use the same labels \n",
    "# as Dialograph paper.\n",
    "\n",
    "def get_dialog_act_stringify_fn(dialog_act_to_idx):\n",
    "    idx_to_dialog_act = {v: k for k, v in dialog_act_to_idx.items()}\n",
    "\n",
    "    def convert_dialog_act_idxs_to_strings(dialog_act_idxs):\n",
    "        dialog_acts = []\n",
    "        for dialog_act_idx in dialog_act_idxs:\n",
    "            dialog_act = idx_to_dialog_act[dialog_act_idx]\n",
    "            dialog_acts.append(dialog_act)\n",
    "        return dialog_acts\n",
    "    return convert_dialog_act_idxs_to_strings\n",
    "\n",
    "\n",
    "def get_strategy_stringify_fn(strategy_to_idx):\n",
    "    idx_to_strategy = {v: k for k, v in strategy_to_idx.items()}\n",
    "    \n",
    "    def convert_strategy_idxs_to_strings(strategy_arr):\n",
    "        strategies = [[] for _ in range(len(strategy_arr))]\n",
    "        for turn_idx, strategy_idx in zip(*np.nonzero(strategy_arr)):\n",
    "            strategies[turn_idx].append(idx_to_strategy[strategy_idx])\n",
    "        return strategies\n",
    "    return convert_strategy_idxs_to_strings"
   ]
  },
  {
   "cell_type": "markdown",
   "metadata": {},
   "source": [
    "# Convert strategy and dialog act ids into string\n",
    "\n",
    "To make sure we use the same data as Dialograph paper."
   ]
  },
  {
   "cell_type": "code",
   "execution_count": 7,
   "metadata": {},
   "outputs": [],
   "source": [
    "idx_to_party = {0: 'buyer', 1: 'seller', -1: '<start>'}\n",
    "dialog_act_to_idx = data['dialacts2id']\n",
    "strategy_to_idx = data['strategies2colid']\n",
    "\n",
    "convert_dialog_act_idxs_to_strings = get_dialog_act_stringify_fn(\n",
    "    dialog_act_to_idx)\n",
    "convert_strategy_idxs_to_strings = get_strategy_stringify_fn(\n",
    "    strategy_to_idx)\n",
    "\n",
    "for split in ['train', 'valid', 'test']:\n",
    "    converted_examples = [] \n",
    "    for dialog_idx, example in enumerate(data[split]):\n",
    "        strategies = convert_strategy_idxs_to_strings(example['strategies_vec'])\n",
    "        dialog_acts = convert_dialog_act_idxs_to_strings(\n",
    "            example['dial_acts_vec'])\n",
    "        agent_ids = example['agent_list']\n",
    "        parties = list(map(idx_to_party.get, agent_ids))\n",
    "        utterances = example['utterance']\n",
    "        uuid = example['uuid']\n",
    "        ratio_bucket = int(example['ratio_bucket'])\n",
    "        ratio = example['ratio']\n",
    "\n",
    "        assert len(parties) == len(utterances) == len(dialog_acts)\n",
    "\n",
    "        dialogue = []\n",
    "        turn_idx = 0\n",
    "        for party, utt, da in zip(parties, utterances, dialog_acts):\n",
    "            if utt == '<start>' and da == '<start>':\n",
    "                continue\n",
    "            dialogue.append({\n",
    "                'turn_idx': turn_idx,\n",
    "                'party': party,\n",
    "                'turn': utt,\n",
    "                'dialogue_act': da,\n",
    "            })\n",
    "            turn_idx += 1\n",
    "\n",
    "        example = {\n",
    "            'dialogue': dialogue,\n",
    "            'dialog_idx': dialog_idx,\n",
    "            'example_id': uuid,\n",
    "            'ratio_bucket': ratio_bucket,\n",
    "            'ratio': ratio,\n",
    "        }\n",
    "        assert (len(agent_ids)\n",
    "                == len(utterances)\n",
    "                == len(strategies)\n",
    "                == len(dialog_acts))\n",
    "        converted_examples.append(example)\n",
    "\n",
    "    split = {'valid': 'dev'}.get(split, split)\n",
    "    path = data_config['path']['input_pattern_map'][split].format(nfs_dir=NFS_DIR)\n",
    "    dir_name = os.path.dirname(path)\n",
    "    os.makedirs(dir_name, exist_ok=True)\n",
    "    with open(path, 'w') as f:\n",
    "        for example in converted_examples:\n",
    "            json_string = json.dumps(example)\n",
    "            print(json_string, file=f)"
   ]
  }
 ],
 "metadata": {
  "colab": {
   "authorship_tag": "ABX9TyOPmtJ2ksmAz4qUuruy6eFR",
   "include_colab_link": true,
   "name": "Untitled",
   "provenance": []
  },
  "kernelspec": {
   "display_name": "theta",
   "language": "python",
   "name": "python3"
  },
  "language_info": {
   "codemirror_mode": {
    "name": "ipython",
    "version": 3
   },
   "file_extension": ".py",
   "mimetype": "text/x-python",
   "name": "python",
   "nbconvert_exporter": "python",
   "pygments_lexer": "ipython3",
   "version": "3.8.12"
  },
  "vscode": {
   "interpreter": {
    "hash": "1d894f953985df1b1fa232bf092ab4758eff604d12535f541d8fc07db67b454f"
   }
  }
 },
 "nbformat": 4,
 "nbformat_minor": 1
}
